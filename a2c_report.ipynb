{
 "cells": [
  {
   "cell_type": "code",
   "execution_count": 1,
   "metadata": {},
   "outputs": [],
   "source": [
    "import torch\n",
    "import numpy as np\n",
    "import matplotlib.pyplot as plt\n",
    "\n",
    "from unityagents import UnityEnvironment\n",
    "\n",
    "from a2c_agent import A2CAgent\n",
    "from config import Config\n",
    "\n",
    "%matplotlib inline"
   ]
  },
  {
   "cell_type": "markdown",
   "metadata": {},
   "source": [
    "# Report for the A2C Algorithm\n",
    "First load the Config class to initiate the unity environment"
   ]
  },
  {
   "cell_type": "code",
   "execution_count": 2,
   "metadata": {},
   "outputs": [
    {
     "name": "stderr",
     "output_type": "stream",
     "text": [
      "INFO:unityagents:\n",
      "'Academy' started successfully!\n",
      "Unity Academy name: Academy\n",
      "        Number of Brains: 1\n",
      "        Number of External Brains : 1\n",
      "        Lesson number : 0\n",
      "        Reset Parameters :\n",
      "\t\tgoal_size -> 5.0\n",
      "\t\tgoal_speed -> 1.0\n",
      "Unity brain name: ReacherBrain\n",
      "        Number of Visual Observations (per agent): 0\n",
      "        Vector Observation space type: continuous\n",
      "        Vector Observation space size (per agent): 33\n",
      "        Number of stacked Vector Observation: 1\n",
      "        Vector Action space type: continuous\n",
      "        Vector Action space size (per agent): 4\n",
      "        Vector Action descriptions: , , , \n"
     ]
    }
   ],
   "source": [
    "config = Config()"
   ]
  },
  {
   "cell_type": "code",
   "execution_count": 10,
   "metadata": {},
   "outputs": [],
   "source": [
    "def print_env_information(config):\n",
    "    config.env_info = config.env.reset(train_mode=False)[config.brain_name]\n",
    "    config.num_agents = len(config.env_info.agents)\n",
    "    print('Number of agents:', config.num_agents)\n",
    "    print('Size of each action:', config.action_dim)\n",
    "    config.states = config.env_info.vector_observations\n",
    "    print('There are {} agents. Each observes a state with length: {}'.format(config.states.shape[0], config.state_dim))\n",
    "    print('The state for the first agent looks like:', config.states[0])\n",
    "\n",
    "def run_random_env(config):\n",
    "    env_info = config.env.reset(train_mode=False)[config.brain_name]\n",
    "    states = env_info.vector_observations\n",
    "    scores = np.zeros(config.num_agents)\n",
    "    steps = 500\n",
    "    for t in range(steps):\n",
    "        actions = np.random.randn(config.num_agents, config.action_dim)\n",
    "        actions = np.clip(actions, -1, 1)\n",
    "        env_info = config.env.step(actions)[config.brain_name]\n",
    "        next_states = env_info.vector_observations\n",
    "        rewards = env_info.rewards\n",
    "        dones = env_info.local_done\n",
    "        scores += env_info.rewards\n",
    "        states = next_states\n",
    "        if np.any(dones):\n",
    "            break\n",
    "    print('Total score (averaged over agents) this episode: {}'.format(np.mean(scores)))"
   ]
  },
  {
   "cell_type": "markdown",
   "metadata": {},
   "source": [
    "## System information and random run\n",
    "The environment state is a vector of 33 inputs for each robot arm. 20 robots are setup for the environment. Actions for each robot arm are a vector of 4 continuous actions in the interval [-1,1]."
   ]
  },
  {
   "cell_type": "code",
   "execution_count": 11,
   "metadata": {},
   "outputs": [
    {
     "name": "stdout",
     "output_type": "stream",
     "text": [
      "Number of agents: 20\n",
      "Size of each action: 4\n",
      "There are 20 agents. Each observes a state with length: 33\n",
      "The state for the first agent looks like: [ 0.00000000e+00 -4.00000000e+00  0.00000000e+00  1.00000000e+00\n",
      " -0.00000000e+00 -0.00000000e+00 -4.37113883e-08  0.00000000e+00\n",
      "  0.00000000e+00  0.00000000e+00  0.00000000e+00  0.00000000e+00\n",
      "  0.00000000e+00  0.00000000e+00 -1.00000000e+01  0.00000000e+00\n",
      "  1.00000000e+00 -0.00000000e+00 -0.00000000e+00 -4.37113883e-08\n",
      "  0.00000000e+00  0.00000000e+00  0.00000000e+00  0.00000000e+00\n",
      "  0.00000000e+00  0.00000000e+00  3.25389481e+00 -1.00000000e+00\n",
      "  7.30836487e+00  0.00000000e+00  1.00000000e+00  0.00000000e+00\n",
      "  1.23100638e-01]\n"
     ]
    }
   ],
   "source": [
    "print_env_information(config)"
   ]
  },
  {
   "cell_type": "markdown",
   "metadata": {},
   "source": [
    "Now let's take 50 random stept for each arm"
   ]
  },
  {
   "cell_type": "code",
   "execution_count": 13,
   "metadata": {},
   "outputs": [
    {
     "name": "stdout",
     "output_type": "stream",
     "text": [
      "Total score (averaged over agents) this episode: 0.06099999863654375\n"
     ]
    }
   ],
   "source": [
    "run_random_env(config)"
   ]
  },
  {
   "cell_type": "markdown",
   "metadata": {},
   "source": [
    "## A2C Agent\n",
    "In the a2c_agent.py and the a2c_model.py is the setup for the A2C algorithm. You can train your own agent and save the weights when you run the run_a2c.py.\n",
    "The small run script trains the agent and saves the weights every 50 episodes and the final weights. Also the score is saved in a numpy file. In the following I will load the saved weights and scores to show the performance"
   ]
  },
  {
   "cell_type": "code",
   "execution_count": 6,
   "metadata": {},
   "outputs": [],
   "source": [
    "agent = A2CAgent(config)\n",
    "agent.load_checkpoint('weights/a2c_simple/cp-0176.pt')"
   ]
  },
  {
   "cell_type": "code",
   "execution_count": 8,
   "metadata": {},
   "outputs": [],
   "source": [
    "def run_agent_env(config):\n",
    "    env_info = config.env.reset(train_mode=False)[config.brain_name]\n",
    "    states = env_info.vector_observations\n",
    "    scores = np.zeros(config.num_agents)\n",
    "    steps = 1000\n",
    "    for t in range(steps):\n",
    "        states = torch.tensor(states, dtype=torch.float, device=agent.network.device)\n",
    "        predictions = agent.act(states)\n",
    "#         actions = np.clip(actions, -1, 1)\n",
    "        env_info = config.env.step(predictions['actions'].detach()\n",
    "                                   .cpu().numpy())[config.brain_name]\n",
    "        next_states = env_info.vector_observations\n",
    "        rewards = env_info.rewards\n",
    "        dones = env_info.local_done\n",
    "        scores += env_info.rewards\n",
    "        states = next_states\n",
    "        if np.any(dones):\n",
    "            break\n",
    "    print('Total score (averaged over agents) this episode: {}'.format(np.mean(scores)))"
   ]
  },
  {
   "cell_type": "code",
   "execution_count": 14,
   "metadata": {},
   "outputs": [
    {
     "name": "stdout",
     "output_type": "stream",
     "text": [
      "Total score (averaged over agents) this episode: 35.54599920548499\n"
     ]
    }
   ],
   "source": [
    "run_agent_env(config)"
   ]
  },
  {
   "cell_type": "code",
   "execution_count": 17,
   "metadata": {},
   "outputs": [],
   "source": [
    "config.env.close()"
   ]
  },
  {
   "cell_type": "markdown",
   "metadata": {},
   "source": [
    "Now let's check how the mean score evolved during training"
   ]
  },
  {
   "cell_type": "code",
   "execution_count": 33,
   "metadata": {},
   "outputs": [],
   "source": [
    "scores = np.load('weights/a2c_simple/a2c_simple_final.npy')\n",
    "means = np.mean(scores, axis=2)"
   ]
  },
  {
   "cell_type": "code",
   "execution_count": 41,
   "metadata": {},
   "outputs": [
    {
     "data": {
      "image/png": "[encoded data removed]",
      "text/plain": [
       "<Figure size 720x576 with 1 Axes>"
      ]
     },
     "metadata": {
      "needs_background": "light"
     },
     "output_type": "display_data"
    }
   ],
   "source": [
    "x = np.arange(176)\n",
    "fig, axs = plt.subplots(1, 1, figsize=(10,8))\n",
    "\n",
    "axs1 = plt.plot(x, means)"
   ]
  },
  {
   "cell_type": "code",
   "execution_count": null,
   "metadata": {},
   "outputs": [],
   "source": []
  }
 ],
 "metadata": {
  "kernelspec": {
   "display_name": "Python 3",
   "language": "python",
   "name": "python3"
  },
  "language_info": {
   "codemirror_mode": {
    "name": "ipython",
    "version": 3
   },
   "file_extension": ".py",
   "mimetype": "text/x-python",
   "name": "python",
   "nbconvert_exporter": "python",
   "pygments_lexer": "ipython3",
   "version": "3.6.7"
  }
 },
 "nbformat": 4,
 "nbformat_minor": 2
}
